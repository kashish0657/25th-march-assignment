{
 "cells": [
  {
   "cell_type": "markdown",
   "id": "71db67bf-d668-4224-8c9e-881a4c2befab",
   "metadata": {},
   "source": [
    "## 25th march assignment"
   ]
  },
  {
   "cell_type": "markdown",
   "id": "7a17742c-2465-4372-860c-836ef7608fb9",
   "metadata": {},
   "source": [
    "## Q:1:- What is the distribution of flight prices in the dataset ? Create a histogram to visualize the distribution ."
   ]
  },
  {
   "cell_type": "code",
   "execution_count": 2,
   "id": "3ae1e53f-0d5f-49d7-87e6-11514925fae3",
   "metadata": {},
   "outputs": [
    {
     "data": {
      "image/png": "[encoded data removed]",
      "text/plain": [
       "<Figure size 1000x600 with 1 Axes>"
      ]
     },
     "metadata": {},
     "output_type": "display_data"
    }
   ],
   "source": [
    "import matplotlib.pyplot as plt\n",
    "import pandas as pd\n",
    "\n",
    "# Assuming you have a DataFrame 'df' with a column 'flight_prices'\n",
    "# Replace 'df' and 'flight_prices' with your actual DataFrame and column names\n",
    "\n",
    "# Example data generation (replace this with your actual dataset)\n",
    "data = {'flight_prices': [200, 250, 300, 350, 400, 450, 500, 550, 600, 650]}\n",
    "df = pd.DataFrame(data)\n",
    "\n",
    "# Plotting the histogram\n",
    "plt.figure(figsize=(10, 6))\n",
    "plt.hist(df['flight_prices'], bins=10, color='skyblue', edgecolor='black')\n",
    "\n",
    "plt.title('Distribution of Flight Prices')\n",
    "plt.xlabel('Flight Prices')\n",
    "plt.ylabel('Frequency')\n",
    "\n",
    "plt.show()\n"
   ]
  },
  {
   "cell_type": "markdown",
   "id": "2e541970-fccd-4f02-857f-0d2ae71874c1",
   "metadata": {},
   "source": [
    "## Q:2:- What is the range of prices in the dataset? what is the minimum and maximum price ?"
   ]
  },
  {
   "cell_type": "code",
   "execution_count": null,
   "id": "6ecf8ed0-a457-4b81-8b52-76c6d553ead2",
   "metadata": {},
   "outputs": [],
   "source": [
    "ans:-\n",
    "\n",
    "import pandas as pd\n",
    "\n",
    "# Assuming your dataset is in a DataFrame named 'df' and the price column is named 'price'\n",
    "min_price = df['price'].min()\n",
    "max_price = df['price'].max()\n",
    "\n",
    "print(f\"Minimum Price: {min_price}\")\n",
    "print(f\"Maximum Price: {max_price}\")\n"
   ]
  },
  {
   "cell_type": "markdown",
   "id": "042e1865-ff45-40b0-a9e2-9903784ec4dd",
   "metadata": {},
   "source": [
    "## Q:3:- Load the google playstore datatset and examine its dimensions . How many rows and columns does the dataset have."
   ]
  },
  {
   "cell_type": "code",
   "execution_count": null,
   "id": "7847297f-cdc2-41b4-9683-c53d429ec58f",
   "metadata": {},
   "outputs": [],
   "source": [
    "ans:-\n",
    "\n",
    "import pandas as pd\n",
    "\n",
    "# Load the dataset (replace 'your_dataset.csv' with the actual file path)\n",
    "playstore_data = pd.read_csv('your_dataset.csv')\n",
    "\n",
    "# Examine the dimensions\n",
    "rows, columns = playstore_data.shape\n",
    "print(f\"The dataset has {rows} rows and {columns} columns.\")\n"
   ]
  },
  {
   "cell_type": "markdown",
   "id": "260dfca2-dcf6-4bdf-bfee-7ae002120580",
   "metadata": {},
   "source": [
    "## Q:4:- How does the type of app affect its price ? Create a bar chart to compare average prices by app type."
   ]
  },
  {
   "cell_type": "code",
   "execution_count": null,
   "id": "37bc780e-2aa5-4ccb-915d-a2f2de27262f",
   "metadata": {},
   "outputs": [],
   "source": [
    "ans:-\n",
    "\n",
    "The price of a mobile app can be influenced by various factors, including\n",
    "its type or category. Different types of apps may have different development\n",
    "complexities, features, and target audiences, leading to variations in pricing.\n",
    "Here's a breakdown of how the type of app can affect its price:\n",
    "\n",
    "Simple Utility Apps:\n",
    "\n",
    "Examples: Flashlight apps, calculator apps.\n",
    "These apps typically have basic functionalities and are straightforward in\n",
    "terms of development.\n",
    "Lower development complexity may result in lower prices.\n",
    "Games:\n",
    "\n",
    "Examples: Casual games, puzzle games.\n",
    "Game development can involve complex graphics, animations, and interactive \n",
    "elements.\n",
    "High development complexity may result in higher prices, especially for more\n",
    "sophisticated games.\n",
    "Productivity Apps:\n",
    "\n",
    "Examples: Task managers, note-taking apps.\n",
    "Focus on functionality and user productivity may require moderate development\n",
    "complexity.\n",
    "Prices can vary depending on the level of features and integrations.\n",
    "Social Networking Apps:\n",
    "\n",
    "Examples: Social media platforms.\n",
    "Development may involve user accounts, real-time interactions, and complex\n",
    "data handling.\n",
    "Prices can be influenced by the need for robust backend systems.\n",
    "E-commerce Apps:\n",
    "\n",
    "Examples: Online shopping apps.\n",
    "Integration with payment gateways, security considerations, and inventory\n",
    "management can increase development complexity.\n",
    "Prices may be higher due to the need for secure and seamless transactions.\n",
    "Health and Fitness Apps:\n",
    "\n",
    "Examples: Fitness trackers, nutrition apps.\n",
    "Integration with sensors, data tracking, and personalized features may \n",
    "contribute to development complexity.\n",
    "Prices can vary based on the level of personalization and data analysis.\n",
    "To visualize the average prices by app type, we can create a bar chart. \n",
    "However, it's important to note that these are general trends, and individual\n",
    "app pricing can be influenced by various factors, including market competition,\n",
    "geographical location, and the reputation of the development team. Additionally,\n",
    "pricing strategies such as freemium models, in-app purchases, or subscription\n",
    "plans can also impact the overall cost to users.\n"
   ]
  },
  {
   "cell_type": "code",
   "execution_count": null,
   "id": "05766875-b7e0-4924-9f5b-8f4a4694facc",
   "metadata": {},
   "outputs": [],
   "source": []
  },
  {
   "cell_type": "code",
   "execution_count": null,
   "id": "cdcab0a0-65d7-456f-be7c-e876bd3a9408",
   "metadata": {},
   "outputs": [],
   "source": []
  },
  {
   "cell_type": "code",
   "execution_count": null,
   "id": "12bd7a33-b1e3-49cd-9914-84ce89ddc029",
   "metadata": {},
   "outputs": [],
   "source": []
  },
  {
   "cell_type": "code",
   "execution_count": null,
   "id": "3fda1809-aaa0-4f27-9710-8139a51abfb8",
   "metadata": {},
   "outputs": [],
   "source": []
  },
  {
   "cell_type": "code",
   "execution_count": null,
   "id": "1e9cd338-58eb-42d6-86ef-ebc699928115",
   "metadata": {},
   "outputs": [],
   "source": []
  },
  {
   "cell_type": "code",
   "execution_count": null,
   "id": "26cc3565-8aa6-455b-8261-c5e40c044664",
   "metadata": {},
   "outputs": [],
   "source": []
  },
  {
   "cell_type": "code",
   "execution_count": null,
   "id": "fc257939-b57c-4f73-b89c-a7a8dc5c067b",
   "metadata": {},
   "outputs": [],
   "source": []
  },
  {
   "cell_type": "code",
   "execution_count": null,
   "id": "764a4652-932c-4096-b292-78c07b2ab539",
   "metadata": {},
   "outputs": [],
   "source": []
  },
  {
   "cell_type": "code",
   "execution_count": null,
   "id": "834d2156-d435-4a09-83b7-530a63fe86fb",
   "metadata": {},
   "outputs": [],
   "source": []
  }
 ],
 "metadata": {
  "kernelspec": {
   "display_name": "Python 3 (ipykernel)",
   "language": "python",
   "name": "python3"
  },
  "language_info": {
   "codemirror_mode": {
    "name": "ipython",
    "version": 3
   },
   "file_extension": ".py",
   "mimetype": "text/x-python",
   "name": "python",
   "nbconvert_exporter": "python",
   "pygments_lexer": "ipython3",
   "version": "3.10.8"
  }
 },
 "nbformat": 4,
 "nbformat_minor": 5
}
